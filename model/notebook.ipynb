version https://git-lfs.github.com/spec/v1
oid sha256:c42c79517322a591bc136a0f710a87ba3fb37cbc4cbaf84b9d9c8e4e22d43d17
size 1206056
